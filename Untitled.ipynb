{
  "nbformat": 4,
  "nbformat_minor": 0,
  "metadata": {
    "colab": {
      "name": "Untitled",
      "provenance": [],
      "collapsed_sections": [],
      "authorship_tag": "ABX9TyPJJyRspSRQHSAIQE3nYG/4",
      "include_colab_link": true
    },
    "kernelspec": {
      "name": "python3",
      "display_name": "Python 3"
    },
    "widgets": {
      "application/vnd.jupyter.widget-state+json": {
        "585549dc2aff4886a67e4cccb61a2358": {
          "model_module": "@jupyter-widgets/controls",
          "model_name": "HBoxModel",
          "state": {
            "_view_name": "HBoxView",
            "_dom_classes": [],
            "_model_name": "HBoxModel",
            "_view_module": "@jupyter-widgets/controls",
            "_model_module_version": "1.5.0",
            "_view_count": null,
            "_view_module_version": "1.5.0",
            "box_style": "",
            "layout": "IPY_MODEL_40624904e156454bb9453507c541b1c2",
            "_model_module": "@jupyter-widgets/controls",
            "children": [
              "IPY_MODEL_21ed6817dbcd4fae9f7cb89f29925de8",
              "IPY_MODEL_9ce0db7681ca487eaa0e707182287566"
            ]
          }
        },
        "40624904e156454bb9453507c541b1c2": {
          "model_module": "@jupyter-widgets/base",
          "model_name": "LayoutModel",
          "state": {
            "_view_name": "LayoutView",
            "grid_template_rows": null,
            "right": null,
            "justify_content": null,
            "_view_module": "@jupyter-widgets/base",
            "overflow": null,
            "_model_module_version": "1.2.0",
            "_view_count": null,
            "flex_flow": null,
            "width": null,
            "min_width": null,
            "border": null,
            "align_items": null,
            "bottom": null,
            "_model_module": "@jupyter-widgets/base",
            "top": null,
            "grid_column": null,
            "overflow_y": null,
            "overflow_x": null,
            "grid_auto_flow": null,
            "grid_area": null,
            "grid_template_columns": null,
            "flex": null,
            "_model_name": "LayoutModel",
            "justify_items": null,
            "grid_row": null,
            "max_height": null,
            "align_content": null,
            "visibility": null,
            "align_self": null,
            "height": null,
            "min_height": null,
            "padding": null,
            "grid_auto_rows": null,
            "grid_gap": null,
            "max_width": null,
            "order": null,
            "_view_module_version": "1.2.0",
            "grid_template_areas": null,
            "object_position": null,
            "object_fit": null,
            "grid_auto_columns": null,
            "margin": null,
            "display": null,
            "left": null
          }
        },
        "21ed6817dbcd4fae9f7cb89f29925de8": {
          "model_module": "@jupyter-widgets/controls",
          "model_name": "FloatProgressModel",
          "state": {
            "_view_name": "ProgressView",
            "style": "IPY_MODEL_f513305c41c0427fb6c4bb078df0e346",
            "_dom_classes": [],
            "description": "100%",
            "_model_name": "FloatProgressModel",
            "bar_style": "success",
            "max": 553433881,
            "_view_module": "@jupyter-widgets/controls",
            "_model_module_version": "1.5.0",
            "value": 553433881,
            "_view_count": null,
            "_view_module_version": "1.5.0",
            "orientation": "horizontal",
            "min": 0,
            "description_tooltip": null,
            "_model_module": "@jupyter-widgets/controls",
            "layout": "IPY_MODEL_1592d8e307f64aa88f589e224bd61754"
          }
        },
        "9ce0db7681ca487eaa0e707182287566": {
          "model_module": "@jupyter-widgets/controls",
          "model_name": "HTMLModel",
          "state": {
            "_view_name": "HTMLView",
            "style": "IPY_MODEL_8bc4f0c7e9ec477c94ee7dd89ea93e4f",
            "_dom_classes": [],
            "description": "",
            "_model_name": "HTMLModel",
            "placeholder": "​",
            "_view_module": "@jupyter-widgets/controls",
            "_model_module_version": "1.5.0",
            "value": " 528M/528M [02:54&lt;00:00, 3.17MB/s]",
            "_view_count": null,
            "_view_module_version": "1.5.0",
            "description_tooltip": null,
            "_model_module": "@jupyter-widgets/controls",
            "layout": "IPY_MODEL_2fbe579e28ba4b20bb24ca8d7864c784"
          }
        },
        "f513305c41c0427fb6c4bb078df0e346": {
          "model_module": "@jupyter-widgets/controls",
          "model_name": "ProgressStyleModel",
          "state": {
            "_view_name": "StyleView",
            "_model_name": "ProgressStyleModel",
            "description_width": "initial",
            "_view_module": "@jupyter-widgets/base",
            "_model_module_version": "1.5.0",
            "_view_count": null,
            "_view_module_version": "1.2.0",
            "bar_color": null,
            "_model_module": "@jupyter-widgets/controls"
          }
        },
        "1592d8e307f64aa88f589e224bd61754": {
          "model_module": "@jupyter-widgets/base",
          "model_name": "LayoutModel",
          "state": {
            "_view_name": "LayoutView",
            "grid_template_rows": null,
            "right": null,
            "justify_content": null,
            "_view_module": "@jupyter-widgets/base",
            "overflow": null,
            "_model_module_version": "1.2.0",
            "_view_count": null,
            "flex_flow": null,
            "width": null,
            "min_width": null,
            "border": null,
            "align_items": null,
            "bottom": null,
            "_model_module": "@jupyter-widgets/base",
            "top": null,
            "grid_column": null,
            "overflow_y": null,
            "overflow_x": null,
            "grid_auto_flow": null,
            "grid_area": null,
            "grid_template_columns": null,
            "flex": null,
            "_model_name": "LayoutModel",
            "justify_items": null,
            "grid_row": null,
            "max_height": null,
            "align_content": null,
            "visibility": null,
            "align_self": null,
            "height": null,
            "min_height": null,
            "padding": null,
            "grid_auto_rows": null,
            "grid_gap": null,
            "max_width": null,
            "order": null,
            "_view_module_version": "1.2.0",
            "grid_template_areas": null,
            "object_position": null,
            "object_fit": null,
            "grid_auto_columns": null,
            "margin": null,
            "display": null,
            "left": null
          }
        },
        "8bc4f0c7e9ec477c94ee7dd89ea93e4f": {
          "model_module": "@jupyter-widgets/controls",
          "model_name": "DescriptionStyleModel",
          "state": {
            "_view_name": "StyleView",
            "_model_name": "DescriptionStyleModel",
            "description_width": "",
            "_view_module": "@jupyter-widgets/base",
            "_model_module_version": "1.5.0",
            "_view_count": null,
            "_view_module_version": "1.2.0",
            "_model_module": "@jupyter-widgets/controls"
          }
        },
        "2fbe579e28ba4b20bb24ca8d7864c784": {
          "model_module": "@jupyter-widgets/base",
          "model_name": "LayoutModel",
          "state": {
            "_view_name": "LayoutView",
            "grid_template_rows": null,
            "right": null,
            "justify_content": null,
            "_view_module": "@jupyter-widgets/base",
            "overflow": null,
            "_model_module_version": "1.2.0",
            "_view_count": null,
            "flex_flow": null,
            "width": null,
            "min_width": null,
            "border": null,
            "align_items": null,
            "bottom": null,
            "_model_module": "@jupyter-widgets/base",
            "top": null,
            "grid_column": null,
            "overflow_y": null,
            "overflow_x": null,
            "grid_auto_flow": null,
            "grid_area": null,
            "grid_template_columns": null,
            "flex": null,
            "_model_name": "LayoutModel",
            "justify_items": null,
            "grid_row": null,
            "max_height": null,
            "align_content": null,
            "visibility": null,
            "align_self": null,
            "height": null,
            "min_height": null,
            "padding": null,
            "grid_auto_rows": null,
            "grid_gap": null,
            "max_width": null,
            "order": null,
            "_view_module_version": "1.2.0",
            "grid_template_areas": null,
            "object_position": null,
            "object_fit": null,
            "grid_auto_columns": null,
            "margin": null,
            "display": null,
            "left": null
          }
        }
      }
    }
  },
  "cells": [
    {
      "cell_type": "markdown",
      "metadata": {
        "id": "view-in-github",
        "colab_type": "text"
      },
      "source": [
        "<a href=\"https://colab.research.google.com/github/sajajjain/machine_learning_examples/blob/master/Untitled.ipynb\" target=\"_parent\"><img src=\"https://colab.research.google.com/assets/colab-badge.svg\" alt=\"Open In Colab\"/></a>"
      ]
    },
    {
      "cell_type": "code",
      "metadata": {
        "id": "1_VQlO0PYUx6"
      },
      "source": [
        "import torch as tc\n",
        "import numpy as np\n",
        "import torchvision\n",
        "import torch.nn as nn\n",
        "import torch.nn.functional as F\n",
        "import matplotlib.pyplot as plt\n"
      ],
      "execution_count": 1,
      "outputs": []
    },
    {
      "cell_type": "code",
      "metadata": {
        "id": "2k_YeZQgYwbU"
      },
      "source": [
        "image = tc.zeros((1,3,800,800)).float()\n",
        "bbox = tc.FloatTensor([[20,30,400,500], [300,400,500, 600]])\n",
        "# y1, x1, y2, x2\n",
        "labels = tc.LongTensor([6,8])\n",
        "sub_sample = 16"
      ],
      "execution_count": 2,
      "outputs": []
    },
    {
      "cell_type": "code",
      "metadata": {
        "id": "rogzQgdkZyjZ",
        "colab": {
          "base_uri": "https://localhost:8080/"
        },
        "outputId": "f7bb24ef-0b1c-44fe-e9b4-f92a0fa9d66e"
      },
      "source": [
        "dummy_img = tc.zeros((1,3,800,800)).float()\n",
        "print(dummy_img)"
      ],
      "execution_count": 3,
      "outputs": [
        {
          "output_type": "stream",
          "text": [
            "tensor([[[[0., 0., 0.,  ..., 0., 0., 0.],\n",
            "          [0., 0., 0.,  ..., 0., 0., 0.],\n",
            "          [0., 0., 0.,  ..., 0., 0., 0.],\n",
            "          ...,\n",
            "          [0., 0., 0.,  ..., 0., 0., 0.],\n",
            "          [0., 0., 0.,  ..., 0., 0., 0.],\n",
            "          [0., 0., 0.,  ..., 0., 0., 0.]],\n",
            "\n",
            "         [[0., 0., 0.,  ..., 0., 0., 0.],\n",
            "          [0., 0., 0.,  ..., 0., 0., 0.],\n",
            "          [0., 0., 0.,  ..., 0., 0., 0.],\n",
            "          ...,\n",
            "          [0., 0., 0.,  ..., 0., 0., 0.],\n",
            "          [0., 0., 0.,  ..., 0., 0., 0.],\n",
            "          [0., 0., 0.,  ..., 0., 0., 0.]],\n",
            "\n",
            "         [[0., 0., 0.,  ..., 0., 0., 0.],\n",
            "          [0., 0., 0.,  ..., 0., 0., 0.],\n",
            "          [0., 0., 0.,  ..., 0., 0., 0.],\n",
            "          ...,\n",
            "          [0., 0., 0.,  ..., 0., 0., 0.],\n",
            "          [0., 0., 0.,  ..., 0., 0., 0.],\n",
            "          [0., 0., 0.,  ..., 0., 0., 0.]]]])\n"
          ],
          "name": "stdout"
        }
      ]
    },
    {
      "cell_type": "code",
      "metadata": {
        "colab": {
          "base_uri": "https://localhost:8080/",
          "height": 136,
          "referenced_widgets": [
            "585549dc2aff4886a67e4cccb61a2358",
            "40624904e156454bb9453507c541b1c2",
            "21ed6817dbcd4fae9f7cb89f29925de8",
            "9ce0db7681ca487eaa0e707182287566",
            "f513305c41c0427fb6c4bb078df0e346",
            "1592d8e307f64aa88f589e224bd61754",
            "8bc4f0c7e9ec477c94ee7dd89ea93e4f",
            "2fbe579e28ba4b20bb24ca8d7864c784"
          ]
        },
        "id": "AGRl7JbZaimi",
        "outputId": "6f52f6a0-51f4-4cb7-fa91-f7a3d42c1b4b"
      },
      "source": [
        "model = torchvision.models.vgg16(pretrained = True)\n",
        "fe = list(model.features)\n",
        "print(fe)\n",
        "len(fe)"
      ],
      "execution_count": 4,
      "outputs": [
        {
          "output_type": "stream",
          "text": [
            "Downloading: \"https://download.pytorch.org/models/vgg16-397923af.pth\" to /root/.cache/torch/hub/checkpoints/vgg16-397923af.pth\n"
          ],
          "name": "stderr"
        },
        {
          "output_type": "display_data",
          "data": {
            "application/vnd.jupyter.widget-view+json": {
              "model_id": "585549dc2aff4886a67e4cccb61a2358",
              "version_minor": 0,
              "version_major": 2
            },
            "text/plain": [
              "HBox(children=(FloatProgress(value=0.0, max=553433881.0), HTML(value='')))"
            ]
          },
          "metadata": {
            "tags": []
          }
        },
        {
          "output_type": "stream",
          "text": [
            "\n",
            "[Conv2d(3, 64, kernel_size=(3, 3), stride=(1, 1), padding=(1, 1)), ReLU(inplace=True), Conv2d(64, 64, kernel_size=(3, 3), stride=(1, 1), padding=(1, 1)), ReLU(inplace=True), MaxPool2d(kernel_size=2, stride=2, padding=0, dilation=1, ceil_mode=False), Conv2d(64, 128, kernel_size=(3, 3), stride=(1, 1), padding=(1, 1)), ReLU(inplace=True), Conv2d(128, 128, kernel_size=(3, 3), stride=(1, 1), padding=(1, 1)), ReLU(inplace=True), MaxPool2d(kernel_size=2, stride=2, padding=0, dilation=1, ceil_mode=False), Conv2d(128, 256, kernel_size=(3, 3), stride=(1, 1), padding=(1, 1)), ReLU(inplace=True), Conv2d(256, 256, kernel_size=(3, 3), stride=(1, 1), padding=(1, 1)), ReLU(inplace=True), Conv2d(256, 256, kernel_size=(3, 3), stride=(1, 1), padding=(1, 1)), ReLU(inplace=True), MaxPool2d(kernel_size=2, stride=2, padding=0, dilation=1, ceil_mode=False), Conv2d(256, 512, kernel_size=(3, 3), stride=(1, 1), padding=(1, 1)), ReLU(inplace=True), Conv2d(512, 512, kernel_size=(3, 3), stride=(1, 1), padding=(1, 1)), ReLU(inplace=True), Conv2d(512, 512, kernel_size=(3, 3), stride=(1, 1), padding=(1, 1)), ReLU(inplace=True), MaxPool2d(kernel_size=2, stride=2, padding=0, dilation=1, ceil_mode=False), Conv2d(512, 512, kernel_size=(3, 3), stride=(1, 1), padding=(1, 1)), ReLU(inplace=True), Conv2d(512, 512, kernel_size=(3, 3), stride=(1, 1), padding=(1, 1)), ReLU(inplace=True), Conv2d(512, 512, kernel_size=(3, 3), stride=(1, 1), padding=(1, 1)), ReLU(inplace=True), MaxPool2d(kernel_size=2, stride=2, padding=0, dilation=1, ceil_mode=False)]\n"
          ],
          "name": "stdout"
        },
        {
          "output_type": "execute_result",
          "data": {
            "text/plain": [
              "31"
            ]
          },
          "metadata": {
            "tags": []
          },
          "execution_count": 4
        }
      ]
    },
    {
      "cell_type": "code",
      "metadata": {
        "colab": {
          "base_uri": "https://localhost:8080/"
        },
        "id": "r0y8di76bc7x",
        "outputId": "eacc7957-170d-40f2-af55-ee1c92dd7ded"
      },
      "source": [
        "req_feature = []\n",
        "k = dummy_img.clone()\n",
        "for i in fe:\n",
        "  k = i(k)\n",
        "  if k.size()[2]<800/16:\n",
        "    break\n",
        "  req_feature.append(i)\n",
        "  out_channel = k.size()[1]\n",
        "\n",
        "print(out_channel)\n",
        "print(len(req_feature))"
      ],
      "execution_count": 5,
      "outputs": [
        {
          "output_type": "stream",
          "text": [
            "512\n",
            "30\n"
          ],
          "name": "stdout"
        }
      ]
    },
    {
      "cell_type": "code",
      "metadata": {
        "id": "FHcJXj8jc_Tn",
        "colab": {
          "base_uri": "https://localhost:8080/"
        },
        "outputId": "e2b58316-037b-4282-d495-ba9504514f4c"
      },
      "source": [
        "faster_rcnn_fe_extractor = nn.Sequential(*req_feature)\n",
        "faster_rcnn_fe_extractor"
      ],
      "execution_count": 6,
      "outputs": [
        {
          "output_type": "execute_result",
          "data": {
            "text/plain": [
              "Sequential(\n",
              "  (0): Conv2d(3, 64, kernel_size=(3, 3), stride=(1, 1), padding=(1, 1))\n",
              "  (1): ReLU(inplace=True)\n",
              "  (2): Conv2d(64, 64, kernel_size=(3, 3), stride=(1, 1), padding=(1, 1))\n",
              "  (3): ReLU(inplace=True)\n",
              "  (4): MaxPool2d(kernel_size=2, stride=2, padding=0, dilation=1, ceil_mode=False)\n",
              "  (5): Conv2d(64, 128, kernel_size=(3, 3), stride=(1, 1), padding=(1, 1))\n",
              "  (6): ReLU(inplace=True)\n",
              "  (7): Conv2d(128, 128, kernel_size=(3, 3), stride=(1, 1), padding=(1, 1))\n",
              "  (8): ReLU(inplace=True)\n",
              "  (9): MaxPool2d(kernel_size=2, stride=2, padding=0, dilation=1, ceil_mode=False)\n",
              "  (10): Conv2d(128, 256, kernel_size=(3, 3), stride=(1, 1), padding=(1, 1))\n",
              "  (11): ReLU(inplace=True)\n",
              "  (12): Conv2d(256, 256, kernel_size=(3, 3), stride=(1, 1), padding=(1, 1))\n",
              "  (13): ReLU(inplace=True)\n",
              "  (14): Conv2d(256, 256, kernel_size=(3, 3), stride=(1, 1), padding=(1, 1))\n",
              "  (15): ReLU(inplace=True)\n",
              "  (16): MaxPool2d(kernel_size=2, stride=2, padding=0, dilation=1, ceil_mode=False)\n",
              "  (17): Conv2d(256, 512, kernel_size=(3, 3), stride=(1, 1), padding=(1, 1))\n",
              "  (18): ReLU(inplace=True)\n",
              "  (19): Conv2d(512, 512, kernel_size=(3, 3), stride=(1, 1), padding=(1, 1))\n",
              "  (20): ReLU(inplace=True)\n",
              "  (21): Conv2d(512, 512, kernel_size=(3, 3), stride=(1, 1), padding=(1, 1))\n",
              "  (22): ReLU(inplace=True)\n",
              "  (23): MaxPool2d(kernel_size=2, stride=2, padding=0, dilation=1, ceil_mode=False)\n",
              "  (24): Conv2d(512, 512, kernel_size=(3, 3), stride=(1, 1), padding=(1, 1))\n",
              "  (25): ReLU(inplace=True)\n",
              "  (26): Conv2d(512, 512, kernel_size=(3, 3), stride=(1, 1), padding=(1, 1))\n",
              "  (27): ReLU(inplace=True)\n",
              "  (28): Conv2d(512, 512, kernel_size=(3, 3), stride=(1, 1), padding=(1, 1))\n",
              "  (29): ReLU(inplace=True)\n",
              ")"
            ]
          },
          "metadata": {
            "tags": []
          },
          "execution_count": 6
        }
      ]
    },
    {
      "cell_type": "code",
      "metadata": {
        "id": "APy4kZjbcI0F"
      },
      "source": [
        "out_map = faster_rcnn_fe_extractor(image)\n"
      ],
      "execution_count": 7,
      "outputs": []
    },
    {
      "cell_type": "code",
      "metadata": {
        "colab": {
          "base_uri": "https://localhost:8080/"
        },
        "id": "3Gue3KydEcE_",
        "outputId": "9c24c347-fc2a-47b0-e4b0-851261dfe434"
      },
      "source": [
        "print(out_map.size())"
      ],
      "execution_count": 8,
      "outputs": [
        {
          "output_type": "stream",
          "text": [
            "torch.Size([1, 512, 50, 50])\n"
          ],
          "name": "stdout"
        }
      ]
    },
    {
      "cell_type": "code",
      "metadata": {
        "id": "QtgUMzasEieI",
        "colab": {
          "base_uri": "https://localhost:8080/",
          "height": 284
        },
        "outputId": "a5c7ae49-c370-4b69-d3a9-c6358dd14a3d"
      },
      "source": [
        "plt.imshow(out_map[0,10].detach().numpy())"
      ],
      "execution_count": 9,
      "outputs": [
        {
          "output_type": "execute_result",
          "data": {
            "text/plain": [
              "<matplotlib.image.AxesImage at 0x7fe20e022668>"
            ]
          },
          "metadata": {
            "tags": []
          },
          "execution_count": 9
        },
        {
          "output_type": "display_data",
          "data": {
            "image/png": "[encoded data removed]",
            "text/plain": [
              "<Figure size 432x288 with 1 Axes>"
            ]
          },
          "metadata": {
            "tags": [],
            "needs_background": "light"
          }
        }
      ]
    },
    {
      "cell_type": "code",
      "metadata": {
        "colab": {
          "base_uri": "https://localhost:8080/"
        },
        "id": "2AhWCOHLFU3G",
        "outputId": "a7693be9-28a2-43e5-fea9-860103b2da63"
      },
      "source": [
        "ratios = [0.5, 1, 2]\n",
        "anchor_scales = [8, 16, 32]\n",
        "anchor_base = np.zeros((len(ratios)* len(anchor_scales), 4), dtype=np.float32)\n",
        "print(anchor_base)"
      ],
      "execution_count": 10,
      "outputs": [
        {
          "output_type": "stream",
          "text": [
            "[[0. 0. 0. 0.]\n",
            " [0. 0. 0. 0.]\n",
            " [0. 0. 0. 0.]\n",
            " [0. 0. 0. 0.]\n",
            " [0. 0. 0. 0.]\n",
            " [0. 0. 0. 0.]\n",
            " [0. 0. 0. 0.]\n",
            " [0. 0. 0. 0.]\n",
            " [0. 0. 0. 0.]]\n"
          ],
          "name": "stdout"
        }
      ]
    },
    {
      "cell_type": "code",
      "metadata": {
        "colab": {
          "base_uri": "https://localhost:8080/"
        },
        "id": "rgDqRuD4IMV-",
        "outputId": "40ded27e-aba8-4069-c5d8-d2bef30ca270"
      },
      "source": [
        "ctr_y = sub_sample / 2\n",
        "ctr_x = sub_sample / 2\n",
        "print(ctr_y, ctr_x)\n",
        "for i in range(len(ratios)):\n",
        "  for j in range(len(anchor_scales)):\n",
        "    h = sub_sample * anchor_scales[j] * np.sqrt(ratios[i]) \n",
        "    w = sub_sample * anchor_scales[j] * np.sqrt(1./ratios[i])\n",
        "\n",
        "    index = i * len(anchor_scales) + j\n",
        "\n",
        "    anchor_base[index, 0] = ctr_y - h /2.\n",
        "    anchor_base[index, 1] = ctr_x - w /2.\n",
        "    anchor_base[index, 2] = ctr_y + h /2.\n",
        "    anchor_base[index, 3] = ctr_x + w /2.\n",
        "anchor_base"
      ],
      "execution_count": 11,
      "outputs": [
        {
          "output_type": "stream",
          "text": [
            "8.0 8.0\n"
          ],
          "name": "stdout"
        },
        {
          "output_type": "execute_result",
          "data": {
            "text/plain": [
              "array([[ -37.254833,  -82.50967 ,   53.254833,   98.50967 ],\n",
              "       [ -82.50967 , -173.01933 ,   98.50967 ,  189.01933 ],\n",
              "       [-173.01933 , -354.03867 ,  189.01933 ,  370.03867 ],\n",
              "       [ -56.      ,  -56.      ,   72.      ,   72.      ],\n",
              "       [-120.      , -120.      ,  136.      ,  136.      ],\n",
              "       [-248.      , -248.      ,  264.      ,  264.      ],\n",
              "       [ -82.50967 ,  -37.254833,   98.50967 ,   53.254833],\n",
              "       [-173.01933 ,  -82.50967 ,  189.01933 ,   98.50967 ],\n",
              "       [-354.03867 , -173.01933 ,  370.03867 ,  189.01933 ]],\n",
              "      dtype=float32)"
            ]
          },
          "metadata": {
            "tags": []
          },
          "execution_count": 11
        }
      ]
    },
    {
      "cell_type": "code",
      "metadata": {
        "colab": {
          "base_uri": "https://localhost:8080/"
        },
        "id": "lqKT4pJkLF8z",
        "outputId": "63ffae9d-ca6b-411c-a9ed-9078e064903e"
      },
      "source": [
        "fe_size = 800//16\n",
        "ctr_x = np.arange(16, (fe_size + 1) * 16, 16)\n",
        "ctr_y = np.arange(16, (fe_size + 1) * 16, 16)\n",
        "ctr_x"
      ],
      "execution_count": 12,
      "outputs": [
        {
          "output_type": "execute_result",
          "data": {
            "text/plain": [
              "array([ 16,  32,  48,  64,  80,  96, 112, 128, 144, 160, 176, 192, 208,\n",
              "       224, 240, 256, 272, 288, 304, 320, 336, 352, 368, 384, 400, 416,\n",
              "       432, 448, 464, 480, 496, 512, 528, 544, 560, 576, 592, 608, 624,\n",
              "       640, 656, 672, 688, 704, 720, 736, 752, 768, 784, 800])"
            ]
          },
          "metadata": {
            "tags": []
          },
          "execution_count": 12
        }
      ]
    },
    {
      "cell_type": "code",
      "metadata": {
        "colab": {
          "base_uri": "https://localhost:8080/"
        },
        "id": "OKo0p0mCM3i0",
        "outputId": "40f41cd3-5999-4de6-d222-48f6f9d9f54d"
      },
      "source": [
        "ctr = np.zeros((50*50, 2))\n",
        "index = 0\n",
        "for x in range(len(ctr_x)):\n",
        "  for y in range(len(ctr_y)):\n",
        "    ctr[index, 1] = ctr_x[x] - 8\n",
        "    ctr[index, 0] = ctr_y[y] - 8\n",
        "    index += 1\n",
        "ctr"
      ],
      "execution_count": 13,
      "outputs": [
        {
          "output_type": "execute_result",
          "data": {
            "text/plain": [
              "array([[  8.,   8.],\n",
              "       [ 24.,   8.],\n",
              "       [ 40.,   8.],\n",
              "       ...,\n",
              "       [760., 792.],\n",
              "       [776., 792.],\n",
              "       [792., 792.]])"
            ]
          },
          "metadata": {
            "tags": []
          },
          "execution_count": 13
        }
      ]
    },
    {
      "cell_type": "markdown",
      "metadata": {
        "id": "arFZPodlRGb8"
      },
      "source": [
        ""
      ]
    },
    {
      "cell_type": "code",
      "metadata": {
        "id": "Myko8zHXNhCC"
      },
      "source": [
        "anchors = np.zeros(((fe_size* fe_size *9), 4))\n",
        "index = 0\n",
        "for c in ctr:\n",
        "  ctr_y, ctr_x = c\n",
        "  for i in range(len(ratios)):\n",
        "    for j in range(len(anchor_scales)):\n",
        "      h = sub_sample * anchor_scales[j] * np.sqrt(ratios[i])\n",
        "      w = sub_sample * anchor_scales[j] * np.sqrt(1./ ratios[i])\n",
        "\n",
        "      anchors[index, 0] = ctr_y - h/2.\n",
        "      anchors[index, 1] = ctr_x - w/2.\n",
        "      anchors[index, 2] = ctr_y + h/2.\n",
        "      anchors[index, 3] = ctr_x + w/2.\n",
        "      index += 1\n",
        "  \n"
      ],
      "execution_count": 17,
      "outputs": []
    },
    {
      "cell_type": "code",
      "metadata": {
        "id": "4DqU-NysPqkE",
        "colab": {
          "base_uri": "https://localhost:8080/",
          "height": 286
        },
        "outputId": "25105d53-62ee-448b-d4c2-b887b5503c15"
      },
      "source": [
        "import matplotlib.patches as patches\n",
        "plt.imshow(image[0,0])\n",
        "y1, x1, y2, x2 = anchors[10000]\n",
        "rect = patches.Rectangle((x1, y1), x2 -x1, y2-y1, linewidth = 1, edgecolor = 'r', facecolor = 'k')\n",
        "plt.gca().add_patch(rect)\n",
        "y1, x1, y2, x2 = anchors[1]\n",
        "rect = patches.Rectangle((x1, y1), x2 -x1, y2-y1, linewidth = 1, edgecolor = 'r', facecolor = 'k')\n",
        "plt.gca().add_patch(rect)"
      ],
      "execution_count": 27,
      "outputs": [
        {
          "output_type": "execute_result",
          "data": {
            "text/plain": [
              "<matplotlib.patches.Rectangle at 0x7fe20544bc18>"
            ]
          },
          "metadata": {
            "tags": []
          },
          "execution_count": 27
        },
        {
          "output_type": "display_data",
          "data": {
            "image/png": "[encoded data removed]",
            "text/plain": [
              "<Figure size 432x288 with 1 Axes>"
            ]
          },
          "metadata": {
            "tags": [],
            "needs_background": "light"
          }
        }
      ]
    },
    {
      "cell_type": "code",
      "metadata": {
        "id": "GIYQOnQqQmz2"
      },
      "source": [
        "bbox = np.asarray([[20,30,400,500], [300,400,500,600]], dtype= np.float32)\n",
        "labels = np.asarray([6,8], dtype = np.int8)"
      ],
      "execution_count": 29,
      "outputs": []
    },
    {
      "cell_type": "code",
      "metadata": {
        "colab": {
          "base_uri": "https://localhost:8080/"
        },
        "id": "rXiRKDz4gUJV",
        "outputId": "3d4a4bbe-337c-473a-84aa-75f1cc60fea8"
      },
      "source": [
        "index_inside = np.where((anchors[:, 0] >= 0) & (anchors[:, 1] >=0) & (anchors[:, 2] <=800) & (anchors[:, 3] <=800))[0]\n",
        "print(index_inside.shape)"
      ],
      "execution_count": 32,
      "outputs": [
        {
          "output_type": "stream",
          "text": [
            "(8940,)\n"
          ],
          "name": "stdout"
        }
      ]
    },
    {
      "cell_type": "code",
      "metadata": {
        "id": "UqsfjbXsg54M"
      },
      "source": [
        "label = np.empty((len(index_inside), ), dtype= np.int32)\n",
        "label.fill(-1)\n",
        "print(label)"
      ],
      "execution_count": null,
      "outputs": []
    },
    {
      "cell_type": "code",
      "metadata": {
        "id": "obTt9-iNhdbJ"
      },
      "source": [
        "valid_anchor_boxes = anchors[index_inside]"
      ],
      "execution_count": 35,
      "outputs": []
    },
    {
      "cell_type": "code",
      "metadata": {
        "colab": {
          "base_uri": "https://localhost:8080/"
        },
        "id": "iDMth80khved",
        "outputId": "69c5e542-97f7-4191-d74b-130f5ffc1f7d"
      },
      "source": [
        "ious = np.empty((len(valid_anchor_boxes),2), dtype=np.float32)\n",
        "ious.fill(0)\n",
        "for num1, i in enumerate(valid_anchor_boxes):\n",
        "  ya1, xa1, ya2, xa2 = i\n",
        "  anchor_area = (ya2 - ya1) * (xa1 - xa1)\n",
        "  for num2, j in enumerate(bbox):\n",
        "    yb1, xb1, yb2, xb2 = j\n",
        "    bbox_area = (yb2 - yb1) * (xb2 - xb1)\n",
        "     \n",
        "    inter_x1 = max([xb1, xa1])\n",
        "    inter_y1 = max([yb1, ya1])\n",
        "    inter_x2 = min([xb2, xa2])\n",
        "    inter_y2 = min([yb2, ya2])\n",
        "\n",
        "    if (inter_x1 < inter_x2) and (inter_y1 < inter_y2):\n",
        "      inter_area = (inter_y2 - inter_y1)*(inter_x2 - inter_x1)\n",
        "      iou = inter_area/(anchor_area + bbox_area- inter_area)\n",
        "    else:\n",
        "      iou = 0.\n",
        "    ious[num1, num2] = iou\n",
        "print(ious.shape)"
      ],
      "execution_count": 45,
      "outputs": [
        {
          "output_type": "stream",
          "text": [
            "(8940, 2)\n"
          ],
          "name": "stdout"
        },
        {
          "output_type": "stream",
          "text": [
            "/usr/local/lib/python3.6/dist-packages/ipykernel_launcher.py:17: RuntimeWarning: divide by zero encountered in true_divide\n"
          ],
          "name": "stderr"
        }
      ]
    },
    {
      "cell_type": "code",
      "metadata": {
        "id": "GycSSEtYk9a-"
      },
      "source": [
        ""
      ],
      "execution_count": null,
      "outputs": []
    }
  ]
}